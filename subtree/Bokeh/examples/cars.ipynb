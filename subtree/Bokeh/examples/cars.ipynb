{
 "metadata": {
  "name": "cars"
 },
 "nbformat": 3,
 "nbformat_minor": 0,
 "worksheets": [
  {
   "cells": [
    {
     "cell_type": "code",
     "collapsed": false,
     "input": [
      "from bokeh.mpl import PlotClient\n",
      "p = PlotClient(username='defaultuser', serverloc=\"http://localhost:5006\",userapikey=\"nokey\")\n",
      "p.use_doc('cars')\n",
      "p.notebooksources()"
     ],
     "language": "python",
     "metadata": {},
     "outputs": []
    },
    {
     "cell_type": "code",
     "collapsed": false,
     "input": [
      "p.notebook_connect()"
     ],
     "language": "python",
     "metadata": {},
     "outputs": []
    },
    {
     "cell_type": "code",
     "collapsed": false,
     "input": [
      "import pandas\n",
      "df = pandas.read_csv(\"../tests/auto-mpg.csv\")\n",
      "source = p.make_source(df)"
     ],
     "language": "python",
     "metadata": {},
     "outputs": []
    },
    {
     "cell_type": "code",
     "collapsed": false,
     "input": [
      "p.hold('off')\n",
      "plot1 = p.scatter('mpg', 'yr', data_source=source)\n",
      "plot2 = p.scatter('mpg', 'weight', data_source=source)\n",
      "grid = p.grid([[plot1, plot2]])\n",
      "grid"
     ],
     "language": "python",
     "metadata": {},
     "outputs": []
    },
    {
     "cell_type": "code",
     "collapsed": false,
     "input": [
      "table = p.pandastable(source, width=600)\n",
      "table"
     ],
     "language": "python",
     "metadata": {},
     "outputs": []
    },
    {
     "cell_type": "code",
     "collapsed": false,
     "input": [
      "from bokeh.functional import *\n",
      "g = ggplot(df, aes(\"displ\", \"mpg\", color=\"green\")) + facet_grid(\"cyl\", \"origin\") +  geom_point()\n",
      "g.to_html(notebook=True)"
     ],
     "language": "python",
     "metadata": {},
     "outputs": []
    }
   ],
   "metadata": {}
  }
 ]
}